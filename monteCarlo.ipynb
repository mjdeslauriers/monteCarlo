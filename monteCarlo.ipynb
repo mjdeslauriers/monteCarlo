{
 "cells": [
  {
   "cell_type": "code",
   "execution_count": 15,
   "metadata": {},
   "outputs": [
    {
     "name": "stdout",
     "output_type": "stream",
     "text": [
      "3.14282\n"
     ]
    }
   ],
   "source": [
    "#monte carlo estimate of pi\n",
    "#consider a circle inside a 1x1 square, where the 4 sides of the cirls exactly \n",
    "#touch the sides of the square\n",
    "#then area(circle) / area(square) = pi * r ^ 2 / 1\n",
    "#                                 = pi * .5^2\n",
    "# but area(cirvle) / area(square) ~ ratio achieved by randomly\n",
    "#selecting points inside square and taking point inside circle over total \n",
    "#selected points\n",
    "# thus pi ~ ratio / .5^2\n",
    "\n",
    "import random\n",
    "\n",
    "\n",
    "def insideCircle(x, y):\n",
    "    #is the point (x,y) inside the circle of radius .5 centered at (.5,.5)\n",
    "    return (x - .5)**2 + (y - .5)**2 <= .5**2\n",
    "\n",
    "def piEstimate(numSim):\n",
    "    inCircle = 0\n",
    "    for x in range(numSim):\n",
    "        r1 = random.random()\n",
    "        r2 = random.random()\n",
    "        if(insideCircle(r1, r2)):\n",
    "            inCircle += 1\n",
    "    ratio = inCircle / numSim\n",
    "    return ratio / (.5**2)\n",
    "        \n",
    "\n",
    "print(piEstimate(1000000))"
   ]
  },
  {
   "cell_type": "code",
   "execution_count": null,
   "metadata": {},
   "outputs": [],
   "source": []
  }
 ],
 "metadata": {
  "kernelspec": {
   "display_name": "Python 3",
   "language": "python",
   "name": "python3"
  },
  "language_info": {
   "codemirror_mode": {
    "name": "ipython",
    "version": 3
   },
   "file_extension": ".py",
   "mimetype": "text/x-python",
   "name": "python",
   "nbconvert_exporter": "python",
   "pygments_lexer": "ipython3",
   "version": "3.7.6"
  }
 },
 "nbformat": 4,
 "nbformat_minor": 4
}
