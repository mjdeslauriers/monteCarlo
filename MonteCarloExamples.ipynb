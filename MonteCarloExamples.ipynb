{
  "metadata": {
    "kernelspec": {
      "name": "python",
      "display_name": "Python (Pyodide)",
      "language": "python"
    },
    "language_info": {
      "codemirror_mode": {
        "name": "python",
        "version": 3
      },
      "file_extension": ".py",
      "mimetype": "text/x-python",
      "name": "python",
      "nbconvert_exporter": "python",
      "pygments_lexer": "ipython3",
      "version": "3.8"
    }
  },
  "nbformat_minor": 4,
  "nbformat": 4,
  "cells": [
    {
      "cell_type": "code",
      "source": "# monte carlo estimate of pi\n# consider a circle inside a 1x1 square, where the 4 sides of the cirls exactly \n# touch the sides of the square\n# then area(circle) / area(square) = pi * r ^ 2 / 1\n#                                  = pi * .5 ^ 2\n# but area(circle) / area(square) ~ ratio achieved by randomly\n# selecting points inside square and taking point inside circle over total \n# selected points\n# thus pi ~ ratio / .5 ^ 2\n\nimport random\n\ndef insideCircle(x, y):\n    #is the point (x,y) inside the circle of radius .5 centered at (.5,.5)\n    return (x - .5)**2 + (y - .5)**2 <= .5**2\n\ndef piEstimate(numSim):\n    inCircle = 0\n    for x in range(numSim):\n        r1 = random.random()\n        r2 = random.random()\n        if(insideCircle(r1, r2)):\n            inCircle += 1\n    ratio = inCircle / numSim\n    return ratio / (.5**2)\n        \n\nprint(piEstimate(1000000))",
      "metadata": {
        "trusted": true
      },
      "outputs": [
        {
          "name": "stdout",
          "text": "3.14148\n",
          "output_type": "stream"
        }
      ],
      "execution_count": 4
    },
    {
      "cell_type": "code",
      "source": "# now we do a financial example\n# we use the Monte Carlo method to estimate a call option price\n# making all the standard Black-Scholes assumptions\n# we estimate the call option price by calculating scenario paths\n# where the underlying process is geometric Brownian motion, consistent\n# with the assumptions of the Black-Scholes model\n\nimport math \nfrom scipy.stats import norm\nimport scipy.optimize as opt\nimport numpy as np\nimport statistics as stats\n\ntradeDaysPerYear = 252\n\n# implement standard Black-Scholes functions, to compare against\n# the monte carlo based prices\n\ndef nPrime(x):\n    d = math.exp(-x ** 2 / 2) / math.sqrt(2 * math.pi)\n    return d\n\ndef d1(vol, t, T, r, S_t, K):\n    f1 = 1 / (vol * math.sqrt(T - t))\n    f2 = math.log(S_t / K) + (r + (vol * vol) / 2)  * (T-t)\n    return f1 * f2\n\ndef d2(vol, t, T, r, S_t, K):\n    return d1(vol, t, T, r, S_t, K) - vol * math.sqrt(T - t)\n\ndef PV(t, T, r, K):\n    return K * math.exp(-r * (T - t))\n\ndef bsCallPrice(vol, t, T, r, S_t, K):\n    if(t >= T):\n        return max(0, S_t - K)\n    d_1 = d1(vol, t, T, r, S_t, K)\n    d_2 = d2(vol, t, T, r, S_t, K)\n    price = norm.cdf(d_1) * S_t - norm.cdf(d_2) * PV(t, T, r, K)\n    return price\n\nclass monteCarloPrice:\n    \n    def __init__(self, t, T, r, S_t, K, realizedVol, numScenarios, stepsPerDay):\n        self.startingPrice = S_t\n        self.realizedVol = realizedVol\n        self.t = t\n        self.T = T\n        self.r = r\n        self.S_t = S_t\n        self.K = K\n        self.finalPriceSeries = []\n        self.numScen = numScenarios\n        self.stepsPerDay = stepsPerDay\n        days = (self.T - self.t) * tradeDaysPerYear\n        self.steps = round(days * self.stepsPerDay)\n        self.stepLen = (self.T - self.t) / self.steps\n\n    def nextStep(self):\n        volMovement =  self.realizedVol * np.random.normal(0,1) * math.sqrt(self.stepLen) * self.S_t    \n        driftMovement = self.stepLen * r * self.S_t\n        self.move = driftMovement + volMovement\n        self.S_t = self.S_t + self.move\n\n    def runSimulation(self):\n        self.S_t = self.startingPrice #reset S_t to original starting price before running next simulation\n        for x in range(self.steps):\n            self.nextStep()\n        return self.S_t #return final price of simulation\n\n    def price(self):\n        for x in range(self.numScen):\n            finalPrice = self.runSimulation()\n            self.finalPriceSeries.append(finalPrice)\n        payouts = [max(0, x - self.K) for x in self.finalPriceSeries]\n        avgPayout = stats.mean(payouts)\n        discountedAvgPayout = math.exp(-(self.T - self.t) * self.r) * avgPayout\n        return discountedAvgPayout",
      "metadata": {
        "trusted": true
      },
      "outputs": [],
      "execution_count": 5
    },
    {
      "cell_type": "code",
      "source": "# next we estimate the price of a certain call option with the \n# monte carlo method (calculating the average discounted payout\n# under the risk neutral measure)\n# we calculate estimates given a certain number of scenario paths\n# and observe how the distribution of price estimates \n# behaves according to the number of scenario paths\n# we observe roughly a halving of the standard error \n# by quadrupling the number of scenarios, which is expected and \n# is a standard result of statistics\n\nvol = .1\nr = .05\nt = 0\nT = 1.0\nS = 100\nK = 100\n\nexactCallPrice = bsCallPrice(vol, t, T, r, S, K)\nprint('exact price: ', exactCallPrice)\n\nnumScenarios = 10\nneededForHalvingStError = 4 #need 4x more scenarios to halve standard error\nstepsPerDay = 1\n\nmonteCarlo = monteCarloPrice(t, T, r, S, K, vol, numScenarios, stepsPerDay)\nmonteCarloPrices1 = [monteCarlo.price() for x in range(1000)]\nprint('average monte carlo price from 10 scenario path simulations of 1000 simulations: ', stats.mean(monteCarloPrices1))\nprint('standard error from 10 scenario path simulations: ', stats.stdev(monteCarloPrices1))\n\nnumScenarios = numScenarios * neededForHalvingStError\nmonteCarlo2 = monteCarloPrice(t, T, r, S, K, vol, numScenarios, stepsPerDay)\nmonteCarloPrices2 = [monteCarlo2.price() for x in range(1000)]\nprint('average monte carlo price from 40 scenario path simulation of 1000 simulations: ', stats.mean(monteCarloPrices2))\nprint('standard error from 40 scenario path simulations: ', stats.stdev(monteCarloPrices2))\n\nnumScenarios = numScenarios * neededForHalvingStError\nmonteCarlo3 = monteCarloPrice(t, T, r, S, K, vol, numScenarios, stepsPerDay)\nmonteCarloPrices3 = [monteCarlo3.price() for x in range(1000)]\nprint('average monte carlo price from 160 scenario path simulation of 1000 simulations: ', stats.mean(monteCarloPrices3))\nprint('standard error from 160 scenario path simulations: ', stats.stdev(monteCarloPrices3))",
      "metadata": {
        "trusted": true
      },
      "outputs": [
        {
          "name": "stdout",
          "text": "exact price:  6.804957708822144\naverage monte carlo price from 10 scenario path simulations of 1000 simulations:  6.898543360495029\nstandard error from 10 scenario path simulations:  0.10900295992137861\naverage monte carlo price from 40 scenario path simulation of 1000 simulations:  6.858748139592203\nstandard error from 40 scenario path simulations:  0.06871819672699082\naverage monte carlo price from 160 scenario path simulation of 1000 simulations:  6.790119518735177\nstandard error from 160 scenario path simulations:  0.029431638915975823\n",
          "output_type": "stream"
        }
      ],
      "execution_count": 6
    },
    {
      "cell_type": "code",
      "source": "",
      "metadata": {
        "trusted": true
      },
      "outputs": [],
      "execution_count": null
    }
  ]
}